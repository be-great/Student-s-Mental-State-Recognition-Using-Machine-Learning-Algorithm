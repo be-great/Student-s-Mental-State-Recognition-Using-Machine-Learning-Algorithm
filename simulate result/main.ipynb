{
 "cells": [
  {
   "cell_type": "markdown",
   "id": "d2abc429",
   "metadata": {
    "id": "NYv7043HvSUl"
   },
   "source": [
    "# Install Package requirement"
   ]
  },
  {
   "cell_type": "code",
   "execution_count": null,
   "id": "f4c678c2",
   "metadata": {
    "colab": {
     "base_uri": "https://localhost:8080/"
    },
    "executionInfo": {
     "elapsed": 6470,
     "status": "ok",
     "timestamp": 1675005707377,
     "user": {
      "displayName": "AHood ah",
      "userId": "18114535150133972708"
     },
     "user_tz": -120
    },
    "id": "g868EC0HP8qc",
    "outputId": "54d1ebe9-17cc-421f-d05a-49406881bedf"
   },
   "outputs": [],
   "source": [
    "%pip install mne"
   ]
  },
  {
   "cell_type": "markdown",
   "id": "e172d2c6",
   "metadata": {
    "id": "48fc7a9d"
   },
   "source": [
    "# Combine files to read "
   ]
  },
  {
   "cell_type": "code",
   "execution_count": null,
   "id": "b4d83c25",
   "metadata": {
    "executionInfo": {
     "elapsed": 2927,
     "status": "ok",
     "timestamp": 1675005726424,
     "user": {
      "displayName": "AHood ah",
      "userId": "18114535150133972708"
     },
     "user_tz": -120
    },
    "id": "1b32f4ed"
   },
   "outputs": [],
   "source": [
    "#9/code/Steps/2-dataset_con_relax/Emotiv 30s EDF/S001/S001E01.edf\n",
    "from glob import glob\n",
    "import os\n",
    "import mne\n",
    "import numpy as np\n",
    "import matplotlib.pyplot as plt\n",
    "import pandas as pd\n",
    "\n",
    "#path='Data/train_test/'\n",
    "path='../dataset/Emotiv 30s EDF/'\n",
    "files_path_train=[]\n",
    "files_path_test=[]\n",
    "files_path_valid=[]\n",
    "files_test_valid=[]\n",
    "for i in range(1,31):\n",
    "    name_Folder=\"S0\"+f\"{i:02}\"\n",
    "    folder=path+name_Folder+\"/\"\n",
    "    for j in [3]:\n",
    "        file=folder+name_Folder+\"E\"+f\"{j:02}\"+\".edf\"\n",
    "        files_test_valid.append(file)\n",
    "        \n",
    "files_test_valid=np.hstack(files_test_valid)"
   ]
  },
  {
   "cell_type": "code",
   "execution_count": null,
   "id": "d302469d",
   "metadata": {
    "colab": {
     "base_uri": "https://localhost:8080/"
    },
    "executionInfo": {
     "elapsed": 22,
     "status": "ok",
     "timestamp": 1675005726425,
     "user": {
      "displayName": "AHood ah",
      "userId": "18114535150133972708"
     },
     "user_tz": -120
    },
    "id": "E266vaeoflyP",
    "outputId": "3560f320-b507-46d9-9cf7-2fd6d56f1746"
   },
   "outputs": [],
   "source": [
    "files_test_valid"
   ]
  },
  {
   "cell_type": "markdown",
   "id": "3dc9c586",
   "metadata": {
    "id": "99fb1623"
   },
   "source": [
    "# Data processing"
   ]
  },
  {
   "cell_type": "code",
   "execution_count": null,
   "id": "a1ec8d38",
   "metadata": {
    "colab": {
     "background_save": true,
     "base_uri": "https://localhost:8080/"
    },
    "id": "sv01qcI8Azwp"
   },
   "outputs": [],
   "source": [
    "raw=mne.io.read_raw_edf(files_test_valid[0],preload=True)\n",
    "#raw.info\n",
    "epochs=mne.make_fixed_length_epochs(raw,duration=1,overlap=0)\n",
    "mne.viz.plot_epochs(epochs)\n"
   ]
  },
  {
   "cell_type": "code",
   "execution_count": null,
   "id": "ee8afc82",
   "metadata": {
    "colab": {
     "base_uri": "https://localhost:8080/"
    },
    "executionInfo": {
     "elapsed": 4986,
     "status": "ok",
     "timestamp": 1673676770116,
     "user": {
      "displayName": "AHood ah",
      "userId": "18114535150133972708"
     },
     "user_tz": -120
    },
    "id": "581b484f",
    "outputId": "6176c339-d7a2-4fef-85ff-b3c366ad29a8",
    "scrolled": false
   },
   "outputs": [],
   "source": [
    "def read_data(file_path,r):\n",
    "    datax=mne.io.read_raw_edf(file_path,preload=True)\n",
    "    datax.set_eeg_reference()\n",
    "\n",
    "    # overlap meaning ex : second epochs over overlap with he first epochs \n",
    "    epochs=mne.make_fixed_length_epochs(datax,duration=r,overlap=0)\n",
    "    \n",
    "    epochs=epochs.get_data()\n",
    "    return epochs #trials,channel,length\n",
    "\n",
    "r=1 # duration of epochs \n",
    "x=int(60/r)\n",
    "conc_epochs_test_valid= [read_data(subject,r)[x:x*2,:,:] for subject in files_test_valid]\n",
    "relax_epochs_test_valid=[read_data(subject,r)[x*2:,:,:] for subject in files_test_valid]\n"
   ]
  },
  {
   "cell_type": "code",
   "execution_count": null,
   "id": "caf0a4dd",
   "metadata": {
    "colab": {
     "base_uri": "https://localhost:8080/"
    },
    "executionInfo": {
     "elapsed": 2095,
     "status": "ok",
     "timestamp": 1673676772203,
     "user": {
      "displayName": "AHood ah",
      "userId": "18114535150133972708"
     },
     "user_tz": -120
    },
    "id": "6fcbc52c",
    "outputId": "e2a28a53-19ae-4a3d-eb9a-c58ae584d0dc"
   },
   "outputs": [],
   "source": [
    "\n",
    "conc_labels_test_valid=[len(i)*[1] for i in conc_epochs_test_valid]\n",
    "relax_labels_test_valid=[len(i)*[0] for i in relax_epochs_test_valid]\n",
    "\n",
    "clv=np.array(conc_labels_test_valid)\n",
    "rlv=np.array(relax_labels_test_valid)\n",
    "clv=np.array(conc_epochs_test_valid)\n",
    "rlv=np.array(relax_epochs_test_valid)\n",
    "\n",
    "\n",
    "\n",
    "print(\"#############Test_valid###############\")\n",
    "print(\"# Arrays shapes :\\n\")\n",
    "print(\"conc label              :\",clv.shape)\n",
    "print(\"relax label             :\",rlv.shape)\n",
    "print(\"time domain conc  epochs:\",clv.shape)\n",
    "print(\"time domain relax epochs:\",rlv.shape)\n",
    "\n",
    "print(\"################## valid_test:togther(shape)#######################\")\n",
    "\n",
    "data_list_test_valid=conc_epochs_test_valid+relax_epochs_test_valid\n",
    "label_list_test_valid=conc_labels_test_valid+relax_labels_test_valid\n",
    "groups_list_test_valid=[[i]*len(j) for i, j in enumerate(data_list_test_valid)]\n",
    "\n",
    "data_array_test_valid=np.vstack(data_list_test_valid)\n",
    "label_array_test_valid=np.hstack(label_list_test_valid)\n",
    "group_array_test_valid=np.hstack(groups_list_test_valid)\n",
    "print(\"concenration and relax combine :\\n 1- conc and relax epochs :%s\\n 2- conc and relax labels :%s\\n 3- conc and relax groups :%s  \"\n",
    "      %(data_array_test_valid.shape,label_array_test_valid.shape,group_array_test_valid.shape))\n",
    "\n",
    "\n",
    "from scipy import stats\n",
    "def mean(data):\n",
    "    return np.mean(data,axis=-1)\n",
    "def median(data):\n",
    "    return np.median(data,axis=-1)\n",
    "def corrcoef(data):\n",
    "    return np.corrcoef(data)\n",
    "def std(data):\n",
    "    return np.std(data,axis=-1)\n",
    "\n",
    "def ptp(data):\n",
    "    return np.ptp(data,axis=-1)\n",
    "\n",
    "def var(data):\n",
    "    return np.var(data,axis=-1)\n",
    "\n",
    "def minim(data):\n",
    "      return np.min(data,axis=-1)\n",
    "\n",
    "\n",
    "def maxim(data):\n",
    "      return np.max(data,axis=-1)\n",
    "\n",
    "def argminim(data):\n",
    "      return np.argmin(data,axis=-1)\n",
    "\n",
    "\n",
    "def argmaxim(data):\n",
    "      return np.argmax(data,axis=-1)\n",
    "\n",
    "def mean_square(data):\n",
    "      return np.mean(data**2,axis=-1)\n",
    "\n",
    "def rms(data): #root mean square\n",
    "      return  np.sqrt(np.mean(data**2,axis=-1))  \n",
    "\n",
    "def abs_diffs_signal(data):\n",
    "    return np.sum(np.abs(np.diff(data,axis=-1)),axis=-1)\n",
    "\n",
    "\n",
    "def skewness(data):\n",
    "    return stats.skew(data,axis=-1)\n",
    "\n",
    "def kurtosis(data):\n",
    "    return stats.kurtosis(data,axis=-1)\n",
    "\n",
    "def concatenate_features(data):\n",
    "    return np.concatenate((median(data),mean(data),std(data),ptp(data),var(data),minim(data),maxim(data),argminim(data),argmaxim(data),\n",
    "                          mean_square(data),rms(data),abs_diffs_signal(data),\n",
    "                          skewness(data),kurtosis(data)),axis=-1)\n",
    "\n",
    "\n",
    "## 10*4*1 = for concentration\n",
    "## 10*4*1 = for relax\n",
    "## 10*4*2=80  total \n",
    "## features = 13*14 =182 \n",
    "# 13 = number of statistic \n",
    "# 14 = number of features\n",
    "#from tqdm import tqdm_notebook\n",
    "print(\"##################Features(shape)#######################\")\n",
    "\n",
    "features_test_valid=[]\n",
    "for data in (data_array_test_valid):\n",
    "    features_test_valid.append(concatenate_features(data))\n",
    "features_test_valid=np.array(features_test_valid)\n",
    "print(\"test_valid :\",features_test_valid.shape)\n",
    "\n"
   ]
  },
  {
   "cell_type": "markdown",
   "id": "9a4b8a1a",
   "metadata": {
    "id": "qfwvnomSe4uS"
   },
   "source": [
    "# result simulation "
   ]
  },
  {
   "cell_type": "markdown",
   "id": "d1bf8c8e",
   "metadata": {
    "id": "0mGhtwWMn6Lz"
   },
   "source": [
    "<h1> Load pickle files </h1>"
   ]
  },
  {
   "cell_type": "code",
   "execution_count": null,
   "id": "b71eb3bc",
   "metadata": {
    "id": "LoYeOSHwn5g9"
   },
   "outputs": [],
   "source": [
    "import os\n",
    "import pickle\n",
    "\n",
    "dest = '../Train the model/pkl_objects'\n",
    "voting_clf   = pickle.load(open(os.path.join(dest,'voting regressor.pkl'), 'rb'))\n",
    "logistic_clf = pickle.load(open(os.path.join(dest,'Logistic regressor.pkl'), 'rb'))\n",
    "grandient_clf = pickle.load(open(os.path.join(dest,'GradientBoostingRegressor.pkl'), 'rb'))\n",
    "RandomForest_clf = pickle.load(open(os.path.join(dest,'RandomForestRegressor.pkl'), 'rb'))\n",
    "Linear_clf = pickle.load(open(os.path.join(dest,'LinearRegression.pkl'), 'rb'))\n",
    "\n"
   ]
  },
  {
   "cell_type": "code",
   "execution_count": null,
   "id": "27836126",
   "metadata": {
    "id": "95QN1FlnUFwB"
   },
   "outputs": [],
   "source": [
    "models=[logistic_clf,voting_clf,grandient_clf,RandomForest_clf,Linear_clf]\n",
    "models_names=[\"Logistic regressor\",\"voting regressor\",\"GradientBoostingRegressor\",\"RandomForestRegressor\",\"LinearRegression\"]\n"
   ]
  },
  {
   "cell_type": "code",
   "execution_count": null,
   "id": "30ef3cfb",
   "metadata": {
    "colab": {
     "base_uri": "https://localhost:8080/"
    },
    "executionInfo": {
     "elapsed": 11191,
     "status": "ok",
     "timestamp": 1673677864959,
     "user": {
      "displayName": "AHood ah",
      "userId": "18114535150133972708"
     },
     "user_tz": -120
    },
    "id": "1b6ac792",
    "outputId": "0fc7e292-9399-45e1-d946-a9ac0209b51a"
   },
   "outputs": [],
   "source": [
    "from sklearn.metrics import confusion_matrix\n",
    "import matplotlib.pyplot as plt\n",
    "from math import floor\n",
    "from sklearn.metrics import accuracy_score\n",
    "\n",
    "y_pred=[]\n",
    "y_true=[]\n",
    "y_pred_total=[]\n",
    "y_true_total=[]\n",
    "import time \n",
    "for model in models:\n",
    "  print(model)\n",
    "  for A in range(60):\n",
    "      epochs=model.predict(features_test_valid[60*A:60*(A+1)])\n",
    "      epochs=[round(epoch) for epoch in epochs ]\n",
    "      y= 1 if A<=29 else 0       \n",
    "      pred_minute=0 if epochs.count(0) > epochs.count(1) else 1\n",
    "      y_pred.append(pred_minute)\n",
    "      y_true.append(y)\n",
    "      #print(str(A)+\" y_pred :\",pred_minute,\"y_true :\",y)\n",
    "  time.sleep(2)\n",
    "  print(\"######new model ########\")\n",
    "  y_pred_total.append(y_pred)\n",
    "  y_true_total.append(y_true)\n",
    "  y_pred=[]\n",
    "  y_true=[]"
   ]
  },
  {
   "cell_type": "code",
   "execution_count": null,
   "id": "0e638601",
   "metadata": {
    "colab": {
     "base_uri": "https://localhost:8080/"
    },
    "executionInfo": {
     "elapsed": 358,
     "status": "ok",
     "timestamp": 1673677872980,
     "user": {
      "displayName": "AHood ah",
      "userId": "18114535150133972708"
     },
     "user_tz": -120
    },
    "id": "afuvxB3d9gmi",
    "outputId": "009fea52-10d3-4656-983b-2042be119c28"
   },
   "outputs": [],
   "source": [
    "for i,name in enumerate(models_names):\n",
    "  print(name+\" minute accuracy score :\",accuracy_score(y_pred_total[i],y_true_total[i]))\n"
   ]
  },
  {
   "cell_type": "code",
   "execution_count": null,
   "id": "0acd2874",
   "metadata": {
    "colab": {
     "base_uri": "https://localhost:8080/",
     "height": 875
    },
    "executionInfo": {
     "elapsed": 1467,
     "status": "ok",
     "timestamp": 1673677459842,
     "user": {
      "displayName": "AHood ah",
      "userId": "18114535150133972708"
     },
     "user_tz": -120
    },
    "id": "qvMtI6eXvwyW",
    "outputId": "4abc13d1-24b9-4756-c035-105c9ab2b43a"
   },
   "outputs": [],
   "source": [
    "\n",
    "for k,model in enumerate(models):\n",
    "\n",
    "  confmat = confusion_matrix(y_true=y_true_total[k], y_pred=y_pred_total[k])    \n",
    "\n",
    "\n",
    "  fig, ax = plt.subplots(figsize=(2.5, 2.5))\n",
    "  ax.matshow(confmat, cmap=plt.cm.Blues, alpha=0.3)\n",
    "  for i in range(confmat.shape[0]):\n",
    "      for j in range(confmat.shape[1]):\n",
    "          ax.text(x=j, y=i, s=confmat[i, j], va='center', ha='center')\n",
    "\n",
    "  plt.xlabel('Predicted label')\n",
    "  plt.ylabel('True label')\n",
    "  plt.title(models_names[k])\n",
    "  plt.tight_layout()\n",
    "  plt.savefig('result_img/'+'confusion_matrix_'+models_names[k]+'.png')\n",
    "  plt.show()\n",
    "  "
   ]
  },
  {
   "cell_type": "code",
   "execution_count": null,
   "id": "cdbd1604",
   "metadata": {
    "colab": {
     "base_uri": "https://localhost:8080/",
     "height": 284
    },
    "executionInfo": {
     "elapsed": 32821,
     "status": "ok",
     "timestamp": 1672792449125,
     "user": {
      "displayName": "AHood ah",
      "userId": "18114535150133972708"
     },
     "user_tz": -120
    },
    "id": "1oj8w2kPz71f",
    "outputId": "da3e9a23-e605-452b-fb08-d9a222b70799"
   },
   "outputs": [],
   "source": [
    "from IPython.display import Image\n",
    "\n",
    "Image(filename='../Train the model/doc_image/confusion_matrix.png' ,width=250,height=250)"
   ]
  },
  {
   "cell_type": "code",
   "execution_count": null,
   "id": "00e8b088",
   "metadata": {
    "colab": {
     "base_uri": "https://localhost:8080/"
    },
    "executionInfo": {
     "elapsed": 11276,
     "status": "ok",
     "timestamp": 1673676788686,
     "user": {
      "displayName": "AHood ah",
      "userId": "18114535150133972708"
     },
     "user_tz": -120
    },
    "id": "71w5yhrj0D3Z",
    "outputId": "17cf9745-3656-43d5-b47b-17fef42f5ae2"
   },
   "outputs": [],
   "source": []
  }
 ],
 "metadata": {
  "colab": {
   "name": "",
   "version": ""
  },
  "kernelspec": {
   "display_name": "Python 3 (ipykernel)",
   "language": "python",
   "name": "python3"
  },
  "language_info": {
   "codemirror_mode": {
    "name": "ipython",
    "version": 3
   },
   "file_extension": ".py",
   "mimetype": "text/x-python",
   "name": "python",
   "nbconvert_exporter": "python",
   "pygments_lexer": "ipython3",
   "version": "3.10.6"
  }
 },
 "nbformat": 4,
 "nbformat_minor": 5
}
