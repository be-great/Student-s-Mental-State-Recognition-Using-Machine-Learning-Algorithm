{
 "cells": [
  {
   "cell_type": "markdown",
   "id": "NYv7043HvSUl",
   "metadata": {
    "id": "NYv7043HvSUl"
   },
   "source": [
    "# Install Package requirement"
   ]
  },
  {
   "cell_type": "code",
   "execution_count": null,
   "id": "g868EC0HP8qc",
   "metadata": {
    "colab": {
     "base_uri": "https://localhost:8080/"
    },
    "executionInfo": {
     "elapsed": 4932,
     "status": "ok",
     "timestamp": 1674840615216,
     "user": {
      "displayName": "AHood ah",
      "userId": "18114535150133972708"
     },
     "user_tz": -120
    },
    "id": "g868EC0HP8qc",
    "outputId": "72f26279-02ae-4681-d656-6be8717d318a"
   },
   "outputs": [],
   "source": [
    "%pip install mne"
   ]
  },
  {
   "cell_type": "markdown",
   "id": "48fc7a9d",
   "metadata": {
    "id": "48fc7a9d"
   },
   "source": [
    "# Combine files to read "
   ]
  },
  {
   "cell_type": "code",
   "execution_count": null,
   "id": "1b32f4ed",
   "metadata": {
    "id": "1b32f4ed"
   },
   "outputs": [],
   "source": [
    "#9/code/Steps/2-dataset_con_relax/Emotiv 30s EDF/S001/S001E01.edf\n",
    "from glob import glob\n",
    "import os\n",
    "import mne\n",
    "import numpy as np\n",
    "import matplotlib.pyplot as plt\n",
    "import pandas as pd\n",
    "\n",
    "#path='Data/train_test/'\n",
    "path='../dataset/Emotiv 30s EDF/'\n",
    "files_path_train=[]\n",
    "files_path_test=[]\n",
    "files_path_valid=[]\n",
    "\n",
    "for i in range(1,31):\n",
    "    name_Folder=\"S0\"+f\"{i:02}\"\n",
    "    folder=path+name_Folder+\"/\"\n",
    "    for j in range(1,3):\n",
    "        \n",
    "        file=folder+name_Folder+\"E\"+f\"{j:02}\"+\".edf\"\n",
    "        if j in [1]:\n",
    "            \n",
    "            files_path_train.append(file)\n",
    "        else:\n",
    "            files_path_test.append(file)\n",
    "        \n",
    "files_path_train=np.hstack(files_path_train)\n",
    "files_path_test=np.hstack(files_path_test)\n",
    "#files_path_valid=np.hstack(files_path_valid)\n"
   ]
  },
  {
   "cell_type": "code",
   "execution_count": null,
   "id": "SeCurgF8pyJ1",
   "metadata": {
    "colab": {
     "base_uri": "https://localhost:8080/"
    },
    "executionInfo": {
     "elapsed": 1679,
     "status": "ok",
     "timestamp": 1674840616862,
     "user": {
      "displayName": "AHood ah",
      "userId": "18114535150133972708"
     },
     "user_tz": -120
    },
    "id": "SeCurgF8pyJ1",
    "outputId": "7c3509a7-439e-40bc-95b6-f99c88e2fe1c"
   },
   "outputs": [],
   "source": [
    "files_path_test\n",
    "files_mne=[mne.io.read_raw_edf(file_path,preload=True) for file_path in files_path_test]\n"
   ]
  },
  {
   "cell_type": "code",
   "execution_count": null,
   "id": "DDXmgAihGFHQ",
   "metadata": {
    "colab": {
     "base_uri": "https://localhost:8080/"
    },
    "executionInfo": {
     "elapsed": 11,
     "status": "ok",
     "timestamp": 1674840616863,
     "user": {
      "displayName": "AHood ah",
      "userId": "18114535150133972708"
     },
     "user_tz": -120
    },
    "id": "DDXmgAihGFHQ",
    "outputId": "09d61d2a-9c9e-49b9-9de3-1d80d0a921b2"
   },
   "outputs": [],
   "source": [
    "files_mne"
   ]
  },
  {
   "cell_type": "markdown",
   "id": "99fb1623",
   "metadata": {
    "id": "99fb1623"
   },
   "source": [
    "# Reading files in (time domain)"
   ]
  },
  {
   "cell_type": "markdown",
   "id": "12c501b6",
   "metadata": {
    "id": "12c501b6"
   },
   "source": [
    "# parameters :- \n",
    "r = duration of each epochs \n",
    "# arrays :-\n",
    "1- train and test concentration epochs array <br>\n",
    "2- train and test relax epochs array "
   ]
  },
  {
   "cell_type": "code",
   "execution_count": null,
   "id": "581b484f",
   "metadata": {
    "colab": {
     "base_uri": "https://localhost:8080/"
    },
    "executionInfo": {
     "elapsed": 70177,
     "status": "ok",
     "timestamp": 1674840687035,
     "user": {
      "displayName": "AHood ah",
      "userId": "18114535150133972708"
     },
     "user_tz": -120
    },
    "id": "581b484f",
    "outputId": "e992bd69-e7bf-464c-c7e5-232127a5b7ad",
    "scrolled": false
   },
   "outputs": [],
   "source": [
    "def read_data(file_path,r):\n",
    "    datax=mne.io.read_raw_edf(file_path,preload=True)\n",
    "    datax.set_eeg_reference()\n",
    "    datax.filter(l_freq=0,h_freq=45)\n",
    "    # overlap meaning ex : second epochs over overlap with he first epochs \n",
    "    epochs=mne.make_fixed_length_epochs(datax,duration=r,overlap=0)\n",
    "    \n",
    "    epochs=epochs.get_data()\n",
    "    return epochs #trials,channel,length\n",
    "\n",
    "r=1 # duration of epochs \n",
    "x=int(60/r)\n",
    "conc_epochs_array=[read_data(subject,r)[x:x*2,:,:] for subject in files_path_train]\n",
    "relax_epochs_array=[read_data(subject,r)[x*2:,:,:] for subject in files_path_train]\n",
    "conc_epochs_test= [read_data(subject,r)[x:x*2,:,:] for subject in files_path_test]\n",
    "relax_epochs_test=[read_data(subject,r)[x*2:,:,:] for subject in files_path_test]\n"
   ]
  },
  {
   "cell_type": "markdown",
   "id": "b4a79f1e",
   "metadata": {
    "id": "b4a79f1e"
   },
   "source": [
    "# arrays:-\n",
    "1- train and test concentration label array <br>\n",
    "2- train adn test relax label array"
   ]
  },
  {
   "cell_type": "code",
   "execution_count": null,
   "id": "6fcbc52c",
   "metadata": {
    "colab": {
     "base_uri": "https://localhost:8080/"
    },
    "executionInfo": {
     "elapsed": 659,
     "status": "ok",
     "timestamp": 1674840687683,
     "user": {
      "displayName": "AHood ah",
      "userId": "18114535150133972708"
     },
     "user_tz": -120
    },
    "id": "6fcbc52c",
    "outputId": "2d830aad-d3a3-492e-d990-36514a2c36bb"
   },
   "outputs": [],
   "source": [
    "conc_epochs_labels=[len(i)*[1] for i in conc_epochs_array]\n",
    "relax_epochs_labels=[len(i)*[0] for i in relax_epochs_array]\n",
    "conc_labels_test=[len(i)*[1] for i in conc_epochs_test]\n",
    "relax_labels_test=[len(i)*[0] for i in relax_epochs_test]\n",
    "\n",
    "clt=np.array(conc_epochs_labels)\n",
    "rlt=np.array(relax_epochs_labels)\n",
    "ct=np.array(conc_epochs_array)\n",
    "rt=np.array(relax_epochs_array)\n",
    "\n",
    "cl=np.array(conc_labels_test)\n",
    "rl=np.array(relax_labels_test)\n",
    "c=np.array(conc_epochs_test)\n",
    "r=np.array(relax_epochs_test)\n",
    "\n",
    "\n",
    "\n",
    "conc_epochs_labels=[len(i)*[1] for i in conc_epochs_array]\n",
    "relax_epochs_labels=[len(i)*[0] for i in relax_epochs_array]\n",
    "conc_labels_test=[len(i)*[1] for i in conc_epochs_test]\n",
    "relax_labels_test=[len(i)*[0] for i in relax_epochs_test]\n",
    "\n",
    "clt=np.array(conc_epochs_labels)\n",
    "rlt=np.array(relax_epochs_labels)\n",
    "ct=np.array(conc_epochs_array)\n",
    "rt=np.array(relax_epochs_array)\n",
    "\n",
    "cl=np.array(conc_labels_test)\n",
    "rl=np.array(relax_labels_test)\n",
    "c=np.array(conc_epochs_test)\n",
    "r=np.array(relax_epochs_test)\n",
    "\n",
    "\n"
   ]
  },
  {
   "cell_type": "markdown",
   "id": "32f6281d",
   "metadata": {
    "id": "32f6281d"
   },
   "source": [
    "<h1> Combine the Concentration and relax arraies </h1> \n",
    "For training and testing"
   ]
  },
  {
   "cell_type": "code",
   "execution_count": null,
   "id": "3d90116c",
   "metadata": {
    "colab": {
     "base_uri": "https://localhost:8080/"
    },
    "executionInfo": {
     "elapsed": 24,
     "status": "ok",
     "timestamp": 1674840687685,
     "user": {
      "displayName": "AHood ah",
      "userId": "18114535150133972708"
     },
     "user_tz": -120
    },
    "id": "3d90116c",
    "outputId": "5c870678-bc88-4127-f77f-0600eda5fe56"
   },
   "outputs": [],
   "source": [
    "print(\"                Time Domain                  \\n\")\n",
    "print(\"################## train(shape)#######################\")\n",
    "\n",
    "data_list=conc_epochs_array+relax_epochs_array\n",
    "label_list=conc_epochs_labels+relax_epochs_labels\n",
    "groups_list=[[i]*len(j) for i, j in enumerate(data_list)]\n",
    "\n",
    "data_array=np.vstack(data_list)\n",
    "label_array=np.hstack(label_list)\n",
    "group_array=np.hstack(groups_list)\n",
    "print(\"concenration and relax combine :\\n 1- conc and relax epochs :%s\\n 2- conc and relax labels :%s\\n 3- conc and relax groups :%s  \"\n",
    "      %(data_array.shape,label_array.shape,group_array.shape))\n",
    "\n",
    "print(\"################## test(shape)#######################\")\n",
    "\n",
    "data_list_test=conc_epochs_test+relax_epochs_test\n",
    "label_list_test=conc_labels_test+relax_labels_test\n",
    "groups_list_test=[[i]*len(j) for i, j in enumerate(data_list_test)]\n",
    "\n",
    "data_array_test=np.vstack(data_list_test)\n",
    "label_array_test=np.hstack(label_list_test)\n",
    "group_array_test=np.hstack(groups_list_test)\n",
    "print(\"concenration and relax combine :\\n 1- conc and relax epochs :%s\\n 2- conc and relax labels :%s\\n 3- conc and relax groups :%s  \"\n",
    "      %(data_array_test.shape,label_array_test.shape,group_array_test.shape))\n",
    "\n",
    "\n",
    "\n",
    "\n"
   ]
  },
  {
   "cell_type": "markdown",
   "id": "1897f075",
   "metadata": {
    "id": "1897f075"
   },
   "source": [
    "# Feature extraction : statistical features  \n",
    "# arrays :-\n",
    "1- train and test features "
   ]
  },
  {
   "cell_type": "code",
   "execution_count": null,
   "id": "63e5207c",
   "metadata": {
    "colab": {
     "base_uri": "https://localhost:8080/"
    },
    "executionInfo": {
     "elapsed": 5621,
     "status": "ok",
     "timestamp": 1674840693289,
     "user": {
      "displayName": "AHood ah",
      "userId": "18114535150133972708"
     },
     "user_tz": -120
    },
    "id": "63e5207c",
    "outputId": "59f254f9-5b5f-46a8-d16d-01bf67c9d9bd"
   },
   "outputs": [],
   "source": [
    "from scipy import stats\n",
    "def mean(data):\n",
    "    return np.mean(data,axis=-1)\n",
    "def median(data):\n",
    "    return np.median(data,axis=-1)\n",
    "def corrcoef(data):\n",
    "    return np.corrcoef(data)\n",
    "def std(data):\n",
    "    return np.std(data,axis=-1)\n",
    "\n",
    "def ptp(data):\n",
    "    return np.ptp(data,axis=-1)\n",
    "\n",
    "def var(data):\n",
    "    return np.var(data,axis=-1)\n",
    "\n",
    "def minim(data):\n",
    "      return np.min(data,axis=-1)\n",
    "\n",
    "\n",
    "def maxim(data):\n",
    "      return np.max(data,axis=-1)\n",
    "\n",
    "def argminim(data):\n",
    "      return np.argmin(data,axis=-1)\n",
    "\n",
    "\n",
    "def argmaxim(data):\n",
    "      return np.argmax(data,axis=-1)\n",
    "\n",
    "def mean_square(data):\n",
    "      return np.mean(data**2,axis=-1)\n",
    "\n",
    "def rms(data): #root mean square\n",
    "      return  np.sqrt(np.mean(data**2,axis=-1))  \n",
    "\n",
    "def abs_diffs_signal(data):\n",
    "    return np.sum(np.abs(np.diff(data,axis=-1)),axis=-1)\n",
    "\n",
    "\n",
    "def skewness(data):\n",
    "    return stats.skew(data,axis=-1)\n",
    "\n",
    "def kurtosis(data):\n",
    "    return stats.kurtosis(data,axis=-1)\n",
    "\n",
    "def concatenate_features(data):\n",
    "    return np.concatenate((median(data),mean(data),std(data),ptp(data),var(data),minim(data),maxim(data),argminim(data),argmaxim(data),\n",
    "                          mean_square(data),rms(data),abs_diffs_signal(data),\n",
    "                          skewness(data),kurtosis(data)),axis=-1)\n",
    "\n",
    "\n",
    "## 10*4*1 = for concentration\n",
    "## 10*4*1 = for relax\n",
    "## 10*4*2=80  total \n",
    "## features = 13*14 =182 \n",
    "# 13 = number of statistic \n",
    "# 14 = number of features\n",
    "#from tqdm import tqdm_notebook\n",
    "print(\"##################Features(shape)#######################\")\n",
    "features=[]\n",
    "for data in (data_array):\n",
    "    features.append(concatenate_features(data))\n",
    "features=np.array(features)\n",
    "print(\"train :\",features.shape)\n",
    "\n",
    "features_test=[]\n",
    "for data in (data_array_test):\n",
    "    features_test.append(concatenate_features(data))\n",
    "features_test=np.array(features_test)\n",
    "print(\"test  :\",features_test.shape)\n",
    "\n"
   ]
  },
  {
   "cell_type": "markdown",
   "id": "RjkSYoerod2f",
   "metadata": {
    "id": "RjkSYoerod2f"
   },
   "source": [
    "# Export to Train ,Test files "
   ]
  },
  {
   "cell_type": "code",
   "execution_count": null,
   "id": "lWEiBsu-ooGm",
   "metadata": {
    "id": "lWEiBsu-ooGm"
   },
   "outputs": [],
   "source": [
    "import pandas as pd\n",
    "import numpy as np\n",
    "#pd.DataFrame(features).to_csv('/content/drive/MyDrive/univ_s_project/The model/version_5/new_dataset/train.csv', index_label = \"Index\")\n",
    "#pd.DataFrame(features_test).to_csv('/content/drive/MyDrive/univ_s_project/The model/version_5/new_dataset/test.csv', index_label = \"Index\")\n",
    "for i in range(30):\n",
    "  pd.DataFrame(features_test[60*i:60*(i+1)]).to_csv('new_dataset/test_conc'+str(i+1)+'.csv', index_label = \"Index\")\n",
    "for i in range(30):\n",
    "  pd.DataFrame(features_test[60*(i+30):60*(i+30+1)]).to_csv('new_dataset/test_relx'+str(i+1)+'.csv', index_label = \"Index\")"
   ]
  },
  {
   "cell_type": "markdown",
   "id": "lwwiEjwztesz",
   "metadata": {
    "id": "lwwiEjwztesz"
   },
   "source": [
    "# Read features From the files"
   ]
  },
  {
   "cell_type": "code",
   "execution_count": null,
   "id": "PO3xhOrAtbuU",
   "metadata": {
    "colab": {
     "base_uri": "https://localhost:8080/",
     "height": 236
    },
    "executionInfo": {
     "elapsed": 535,
     "status": "ok",
     "timestamp": 1673828041865,
     "user": {
      "displayName": "AHood ah",
      "userId": "18114535150133972708"
     },
     "user_tz": -120
    },
    "id": "PO3xhOrAtbuU",
    "outputId": "a3afc23a-2fae-4244-bb19-3766db9d228f"
   },
   "outputs": [],
   "source": [
    "features_test0=pd.read_csv('new_dataset/test_conc1.csv')\n",
    "x=features_test0.iloc[:,2:]\n",
    "x.head()"
   ]
  },
  {
   "cell_type": "markdown",
   "id": "04ee626c",
   "metadata": {
    "id": "04ee626c"
   },
   "source": [
    "# Training\n",
    "<br>"
   ]
  },
  {
   "cell_type": "markdown",
   "id": "1655ab3d",
   "metadata": {
    "id": "1655ab3d"
   },
   "source": [
    "# Logistic Regression Regression"
   ]
  },
  {
   "cell_type": "code",
   "execution_count": null,
   "id": "j8A00fGIwydO",
   "metadata": {
    "colab": {
     "base_uri": "https://localhost:8080/",
     "height": 417
    },
    "executionInfo": {
     "elapsed": 32,
     "status": "ok",
     "timestamp": 1673679676102,
     "user": {
      "displayName": "AHood ah",
      "userId": "18114535150133972708"
     },
     "user_tz": -120
    },
    "id": "j8A00fGIwydO",
    "outputId": "d2a57867-551b-4056-9407-af804a41aa47"
   },
   "outputs": [],
   "source": [
    "from IPython.display import Image\n",
    "Image(filename=\"doc_image/logisticRegression.png\" ,width=700,height=400)"
   ]
  },
  {
   "cell_type": "code",
   "execution_count": null,
   "id": "bce3816f",
   "metadata": {
    "colab": {
     "base_uri": "https://localhost:8080/"
    },
    "executionInfo": {
     "elapsed": 20353,
     "status": "ok",
     "timestamp": 1674661229329,
     "user": {
      "displayName": "AHood ah",
      "userId": "18114535150133972708"
     },
     "user_tz": -120
    },
    "id": "bce3816f",
    "outputId": "dc510946-f8bd-4215-da81-23f4ac3b06c5"
   },
   "outputs": [],
   "source": [
    "from sklearn.linear_model import LogisticRegression\n",
    "from sklearn.pipeline import Pipeline\n",
    "from sklearn.preprocessing import StandardScaler\n",
    "from sklearn.model_selection import GroupKFold,GridSearchCV,cross_val_score,cross_validate \n",
    "\n",
    "clf=LogisticRegression()\n",
    "gkf=GroupKFold(n_splits=5)\n",
    "param_grid = {'classifier__C': [0.1,0.4,0.45,0.5,0.55,0.6]}\n",
    "pipe=Pipeline([('scaler',StandardScaler()),('classifier',clf)])\n",
    "logreg=GridSearchCV(pipe,param_grid,cv=gkf,n_jobs=16)\n",
    "logreg.fit(features,label_array,groups=group_array)"
   ]
  },
  {
   "cell_type": "code",
   "execution_count": null,
   "id": "iy_ljhM43l5z",
   "metadata": {
    "id": "iy_ljhM43l5z"
   },
   "outputs": [],
   "source": []
  },
  {
   "cell_type": "code",
   "execution_count": null,
   "id": "d0f864b5",
   "metadata": {
    "colab": {
     "base_uri": "https://localhost:8080/"
    },
    "executionInfo": {
     "elapsed": 1623,
     "status": "ok",
     "timestamp": 1674661230945,
     "user": {
      "displayName": "AHood ah",
      "userId": "18114535150133972708"
     },
     "user_tz": -120
    },
    "id": "d0f864b5",
    "outputId": "5f5a77f8-804a-407d-dccd-d142d56f5db1"
   },
   "outputs": [],
   "source": [
    "from sklearn.metrics import accuracy_score\n",
    "y_pred_test=logreg.best_estimator_.predict(features_test)\n",
    "\n",
    "print(\"Example of y pred output  :\",y_pred_test[:10],\"\\n\")\n",
    "print('Training accuracy score   :', logreg.score(features, label_array)*100)\n",
    "print(\"Testing accuracy score    :\",accuracy_score([round(v) for v in y_pred_test],label_array_test)*100)\n",
    "print(\"Best Parameters           :\",logreg.best_params_)\n",
    "\n",
    "#https://scikit-learn.org/stable/modules/generated/sklearn.model_selection.GridSearchCV.html\n",
    "right_pred=0\n",
    "wrong_pred=0\n",
    "for i in range(len(features_test)):\n",
    "    x=logreg.predict([features_test[i]])\n",
    "    x=round(x[0])\n",
    "    \n",
    "    y=label_array_test[i]\n",
    "    if x!=y:\n",
    "        wrong_pred+=1\n",
    "    elif x==y:\n",
    "        right_pred+=1\n",
    "        \n",
    "print(\"right pred valid=\",right_pred)\n",
    "print(\"wrong pred valid=\",wrong_pred)\n",
    "print(\"precentage valid= %\",(right_pred/(right_pred+wrong_pred))*100)"
   ]
  },
  {
   "cell_type": "markdown",
   "id": "-wcDQ7N_6FqG",
   "metadata": {
    "id": "-wcDQ7N_6FqG"
   },
   "source": [
    "# Voting Regression"
   ]
  },
  {
   "cell_type": "code",
   "execution_count": null,
   "id": "dcf38838",
   "metadata": {
    "colab": {
     "base_uri": "https://localhost:8080/",
     "height": 417
    },
    "executionInfo": {
     "elapsed": 12,
     "status": "ok",
     "timestamp": 1673679696834,
     "user": {
      "displayName": "AHood ah",
      "userId": "18114535150133972708"
     },
     "user_tz": -120
    },
    "id": "dcf38838",
    "outputId": "1c0ab481-cdef-400e-a391-a80e87a63e35"
   },
   "outputs": [],
   "source": [
    "from IPython.display import Image, HTML, display\n",
    "import glob\n",
    "# Get images path\n",
    "images_path = []\n",
    "for img_path in glob.glob(\"doc_image/voting_*.png\"):\n",
    "    images_path.append(img_path)\n",
    "Image(filename=images_path[0] ,width=700,height=400)"
   ]
  },
  {
   "cell_type": "markdown",
   "id": "CI3AiB2G4hMx",
   "metadata": {
    "id": "CI3AiB2G4hMx"
   },
   "source": [
    "<h1><b>Algorithms Used :-</b> </h1>\n",
    "<br><h2><b>1-  Linear Regression<b></h2>"
   ]
  },
  {
   "cell_type": "code",
   "execution_count": null,
   "id": "i1nu3HX93r4y",
   "metadata": {
    "colab": {
     "base_uri": "https://localhost:8080/",
     "height": 417
    },
    "executionInfo": {
     "elapsed": 34,
     "status": "ok",
     "timestamp": 1673678892168,
     "user": {
      "displayName": "AHood ah",
      "userId": "18114535150133972708"
     },
     "user_tz": -120
    },
    "id": "i1nu3HX93r4y",
    "outputId": "4ca46819-16fb-4c26-ab1b-93bd153dd8c6"
   },
   "outputs": [],
   "source": [
    "Image(filename=images_path[1] ,width=700,height=400)"
   ]
  },
  {
   "cell_type": "markdown",
   "id": "pyoU6cu_5Kf3",
   "metadata": {
    "id": "pyoU6cu_5Kf3"
   },
   "source": [
    "<h2><b>2-  Random Forest Regressor<b></h2>\n"
   ]
  },
  {
   "cell_type": "code",
   "execution_count": null,
   "id": "EvXLhUB25LSV",
   "metadata": {
    "colab": {
     "base_uri": "https://localhost:8080/",
     "height": 417
    },
    "executionInfo": {
     "elapsed": 30,
     "status": "ok",
     "timestamp": 1673678892169,
     "user": {
      "displayName": "AHood ah",
      "userId": "18114535150133972708"
     },
     "user_tz": -120
    },
    "id": "EvXLhUB25LSV",
    "outputId": "bae6e967-255e-4a69-eba9-a73bad1a886c"
   },
   "outputs": [],
   "source": [
    "Image(filename=images_path[3] ,width=700,height=400)"
   ]
  },
  {
   "cell_type": "markdown",
   "id": "znB9afYV4_XU",
   "metadata": {
    "id": "znB9afYV4_XU"
   },
   "source": [
    "<h2><b>3-  Gradient Boosting Regressor<b></h2>\n",
    "\n",
    "> Indented block\n",
    "\n"
   ]
  },
  {
   "cell_type": "code",
   "execution_count": null,
   "id": "tKvux4Df5A66",
   "metadata": {
    "colab": {
     "base_uri": "https://localhost:8080/",
     "height": 417
    },
    "executionInfo": {
     "elapsed": 23,
     "status": "ok",
     "timestamp": 1673678892170,
     "user": {
      "displayName": "AHood ah",
      "userId": "18114535150133972708"
     },
     "user_tz": -120
    },
    "id": "tKvux4Df5A66",
    "outputId": "1d0656dc-7dc4-467d-a979-e0a2c3a9db4e"
   },
   "outputs": [],
   "source": [
    "Image(filename=images_path[2] ,width=700,height=400)"
   ]
  },
  {
   "cell_type": "code",
   "execution_count": null,
   "id": "371f7b6d",
   "metadata": {
    "colab": {
     "base_uri": "https://localhost:8080/"
    },
    "executionInfo": {
     "elapsed": 142202,
     "status": "ok",
     "timestamp": 1674661373138,
     "user": {
      "displayName": "AHood ah",
      "userId": "18114535150133972708"
     },
     "user_tz": -120
    },
    "id": "371f7b6d",
    "outputId": "5b1798bb-a770-4595-f8ee-6fb345c0811d"
   },
   "outputs": [],
   "source": [
    "import matplotlib.pyplot as plt\n",
    "\n",
    "\n",
    "from sklearn.ensemble import GradientBoostingRegressor\n",
    "from sklearn.ensemble import RandomForestRegressor\n",
    "from sklearn.linear_model import LinearRegression ,LogisticRegression\n",
    "from sklearn.ensemble import VotingRegressor\n",
    "# Train classifiers\n",
    "reg3 = GradientBoostingRegressor(random_state=1)\n",
    "reg2 = RandomForestRegressor(random_state=1)\n",
    "reg1 = LinearRegression()\n",
    "#reg4= LogisticRegression()\n",
    "reg3.fit(features, label_array)\n",
    "reg2.fit(features, label_array)\n",
    "reg1.fit(features,label_array)\n",
    "#reg4.fit(features,label_array)\n",
    "\n",
    "voting = VotingRegressor([(\"gb\", reg3), (\"rf\", reg2), (\"lr\", reg1)])#,(\"lor\",reg4)])\n",
    "voting.fit(features, label_array)\n"
   ]
  },
  {
   "cell_type": "code",
   "execution_count": null,
   "id": "cq62a-0PFxl6",
   "metadata": {
    "id": "cq62a-0PFxl6"
   },
   "outputs": [],
   "source": []
  },
  {
   "cell_type": "code",
   "execution_count": null,
   "id": "Sq1f7oVXFY7E",
   "metadata": {
    "colab": {
     "base_uri": "https://localhost:8080/"
    },
    "executionInfo": {
     "elapsed": 28,
     "status": "ok",
     "timestamp": 1673679185304,
     "user": {
      "displayName": "AHood ah",
      "userId": "18114535150133972708"
     },
     "user_tz": -120
    },
    "id": "Sq1f7oVXFY7E",
    "outputId": "b712057c-ae29-48a8-8b27-091945bd1275"
   },
   "outputs": [],
   "source": [
    "reg3.predict([features_test[1]])"
   ]
  },
  {
   "cell_type": "code",
   "execution_count": null,
   "id": "abe9ac3d",
   "metadata": {
    "colab": {
     "base_uri": "https://localhost:8080/"
    },
    "executionInfo": {
     "elapsed": 40487,
     "status": "ok",
     "timestamp": 1674661413613,
     "user": {
      "displayName": "AHood ah",
      "userId": "18114535150133972708"
     },
     "user_tz": -120
    },
    "id": "abe9ac3d",
    "outputId": "549da846-8665-43e1-f785-02c40d9e840e"
   },
   "outputs": [],
   "source": [
    "print(\"Voting #################### \")\n",
    "y_pred_test=voting.predict(features_test)\n",
    "print(\"Example of y pred output  :\",y_pred_test[:10],\"\\n\")\n",
    "print('Training accuracy score   :', voting.score(features, label_array)*100)\n",
    "print(\"Testing accuracy score    :\",accuracy_score([round(v) for v in y_pred_test],label_array_test)*100)\n",
    "print(\"gradient##################\")\n",
    "y_pred_test=reg3.predict(features_test)\n",
    "print('Training accuracy score   :', reg3.score(features, label_array)*100)\n",
    "print(\"Testing accuracy score    :\",accuracy_score([round(v) for v in y_pred_test],label_array_test)*100)\n",
    "print(\"random Forest ############\")\n",
    "y_pred_test=reg2.predict(features_test)\n",
    "print('Training accuracy score   :', reg2.score(features, label_array)*100)\n",
    "print(\"Testing accuracy score    :\",accuracy_score([round(v) for v in y_pred_test],label_array_test)*100)\n",
    "print(\"Linear ###################\")\n",
    "y_pred_test=reg1.predict(features_test)\n",
    "print('Training accuracy score   :', reg1.score(features, label_array)*100)\n",
    "print(\"Testing accuracy score    :\",accuracy_score([round(v) for v in y_pred_test],label_array_test)*100)\n",
    "#https://scikit-learn.org/stable/modules/generated/sklearn.model_selection.GridSearchCV.html\n",
    "right_pred=0\n",
    "wrong_pred=0\n",
    "for i in range(len(features_test)):\n",
    "    x=voting.predict([features_test[i]])\n",
    "    x=round(x[0])\n",
    "    \n",
    "    y=label_array_test[i]\n",
    "    if x!=y:\n",
    "        wrong_pred+=1\n",
    "    elif x==y:\n",
    "        right_pred+=1\n",
    "        \n",
    "print(\"right pred valid=\",right_pred)\n",
    "print(\"wrong pred valid=\",wrong_pred)\n",
    "print(\"precentage valid= %\",(right_pred/(right_pred+wrong_pred))*100)"
   ]
  },
  {
   "cell_type": "markdown",
   "id": "0051798e",
   "metadata": {
    "id": "0051798e"
   },
   "source": [
    "# positive (true, false) : calculation :\n",
    "accuracy detial"
   ]
  },
  {
   "cell_type": "code",
   "execution_count": null,
   "id": "5329a62f",
   "metadata": {
    "colab": {
     "base_uri": "https://localhost:8080/",
     "height": 361
    },
    "executionInfo": {
     "elapsed": 1105,
     "status": "ok",
     "timestamp": 1671514333055,
     "user": {
      "displayName": "AHood ah",
      "userId": "18114535150133972708"
     },
     "user_tz": -120
    },
    "id": "5329a62f",
    "outputId": "d3c98041-7828-4915-8d25-82d3e6d45ae8"
   },
   "outputs": [],
   "source": [
    "from sklearn.metrics import confusion_matrix\n",
    "import matplotlib.pyplot as plt\n",
    "from math import floor\n",
    "models=[logreg,voting]\n",
    "name_of_models=[\"Logistic regressor\",\"voting\"]\n",
    "for k in range(len(models)):\n",
    "    y_pred = models[k].predict(features_test)\n",
    "    y_pred=[round(v) for v in y_pred]\n",
    "    confmat = confusion_matrix(y_true=label_array_test, y_pred=y_pred)\n",
    "    \n",
    "    if name_of_models[k]==\"voting\":\n",
    "      confmat=confmat[2:4,2:4]\n",
    "\n",
    "    fig, ax = plt.subplots(figsize=(2.5, 2.5))\n",
    "    ax.matshow(confmat, cmap=plt.cm.Blues, alpha=0.3)\n",
    "    for i in range(confmat.shape[0]):\n",
    "        for j in range(confmat.shape[1]):\n",
    "            ax.text(x=j, y=i, s=confmat[i, j], va='center', ha='center')\n",
    "    \n",
    "    plt.xlabel('Predicted label')\n",
    "    plt.ylabel('True label')\n",
    "    plt.title(name_of_models[k])\n",
    "    plt.tight_layout()\n",
    "    plt.show()\n",
    "#plt.savefig('images/06_09.png', dpi=300)\n"
   ]
  },
  {
   "cell_type": "code",
   "execution_count": 10,
   "id": "sK8osxDoBfVo",
   "metadata": {
    "colab": {
     "base_uri": "https://localhost:8080/",
     "height": 117
    },
    "executionInfo": {
     "elapsed": 555,
     "status": "ok",
     "timestamp": 1671514468505,
     "user": {
      "displayName": "AHood ah",
      "userId": "18114535150133972708"
     },
     "user_tz": -120
    },
    "id": "sK8osxDoBfVo",
    "outputId": "a866a22d-0bf6-47ed-b0d1-c6685d642865"
   },
   "outputs": [
    {
     "data": {
      "image/png": "[encoded data removed]",
      "text/plain": [
       "<IPython.core.display.Image object>"
      ]
     },
     "execution_count": 10,
     "metadata": {
      "image/png": {
       "height": 100,
       "width": 700
      }
     },
     "output_type": "execute_result"
    }
   ],
   "source": [
    "Image(filename='doc_image/acc.png' ,width=700,height=100)"
   ]
  },
  {
   "cell_type": "code",
   "execution_count": null,
   "id": "wnZy-34WBfHI",
   "metadata": {
    "colab": {
     "base_uri": "https://localhost:8080/",
     "height": 267
    },
    "executionInfo": {
     "elapsed": 8,
     "status": "ok",
     "timestamp": 1671514511743,
     "user": {
      "displayName": "AHood ah",
      "userId": "18114535150133972708"
     },
     "user_tz": -120
    },
    "id": "wnZy-34WBfHI",
    "outputId": "340a9de7-343c-4894-aa59-0af42ffdc05e"
   },
   "outputs": [],
   "source": [
    "Image(filename='doc_image/confusion_matrix.png' ,width=250,height=250)"
   ]
  },
  {
   "cell_type": "markdown",
   "id": "1e6a7e13",
   "metadata": {
    "id": "1e6a7e13"
   },
   "source": [
    "# Export models"
   ]
  },
  {
   "cell_type": "code",
   "execution_count": null,
   "id": "3b0dec09",
   "metadata": {
    "id": "3b0dec09"
   },
   "outputs": [],
   "source": [
    "# Export Voting\n",
    "models_to_export =[logreg,voting,reg3,reg2,reg1]\n",
    "models_names=[\"Logistic regressor\",\"voting regressor\",\"GradientBoostingRegressor\",\"RandomForestRegressor\",\"LinearRegression\"]\n",
    "import pickle\n",
    "import os\n",
    "dest = 'pkl_objects'\n",
    "if not os.path.exists(dest):\n",
    "    os.mkdir(dest)\n",
    "for i,v in enumerate(models_to_export):\n",
    "    name=models_names[i]\n",
    "    pickle.dump(v,open(os.path.join(dest, name+'.pkl'), 'wb'))"
   ]
  },
  {
   "cell_type": "code",
   "execution_count": null,
   "id": "7tadVHzg35ol",
   "metadata": {
    "id": "7tadVHzg35ol"
   },
   "outputs": [],
   "source": []
  },
  {
   "cell_type": "code",
   "execution_count": null,
   "id": "1b6ac792",
   "metadata": {
    "id": "1b6ac792"
   },
   "outputs": [],
   "source": []
  }
 ],
 "metadata": {
  "colab": {
   "provenance": []
  },
  "kernelspec": {
   "display_name": "Python 3 (ipykernel)",
   "language": "python",
   "name": "python3"
  },
  "language_info": {
   "codemirror_mode": {
    "name": "ipython",
    "version": 3
   },
   "file_extension": ".py",
   "mimetype": "text/x-python",
   "name": "python",
   "nbconvert_exporter": "python",
   "pygments_lexer": "ipython3",
   "version": "3.10.6"
  }
 },
 "nbformat": 4,
 "nbformat_minor": 5
}
